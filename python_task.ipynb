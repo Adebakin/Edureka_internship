{
 "cells": [
  {
   "cell_type": "markdown",
   "id": "a434235d",
   "metadata": {},
   "source": [
    "# Solution to task"
   ]
  },
  {
   "cell_type": "markdown",
   "id": "2df6afbf",
   "metadata": {},
   "source": [
    "## 1) Activity:\n",
    "\n",
    "`if condition`\n",
    "A school has following rules for grading system: - Below 25 - F - 25 to 45 - E - 45 to 50 - D - 50 to 60 - C - 60 to 80 - B - Above 80 - A\n",
    "\n",
    "Ask user to enter marks and print the corresponding grade."
   ]
  },
  {
   "cell_type": "code",
   "execution_count": 7,
   "id": "918b6a2a",
   "metadata": {},
   "outputs": [
    {
     "name": "stdout",
     "output_type": "stream",
     "text": [
      "enter your score: q\n",
      "enter a number\n"
     ]
    }
   ],
   "source": [
    "try:\n",
    "    score = int(input('enter your score: '))\n",
    "    if score < 25:\n",
    "        grade = 'F'\n",
    "        print(grade)\n",
    "    elif score >= 25 and score < 45:\n",
    "        grade = 'E'\n",
    "        print(grade)\n",
    "    elif score >= 45 and score < 50:\n",
    "        grade = 'D'\n",
    "        print(grade)\n",
    "    elif score >= 50 and score <60:\n",
    "        grade = 'C'\n",
    "        print(grade)\n",
    "        \n",
    "    elif score >= 60 and score < 80:\n",
    "        grade = 'B'\n",
    "        print(grade)\n",
    "    else:\n",
    "        grade = 'A'\n",
    "        print(grade)\n",
    "except:\n",
    "    print('enter a number')"
   ]
  },
  {
   "cell_type": "code",
   "execution_count": null,
   "id": "d2e0ffaa",
   "metadata": {},
   "outputs": [],
   "source": []
  },
  {
   "cell_type": "markdown",
   "id": "1f1bd6a5",
   "metadata": {},
   "source": [
    "## 2) Activity: - While loop\n",
    "Write a Program to Print the Even numbers between 50 to 100"
   ]
  },
  {
   "cell_type": "code",
   "execution_count": 2,
   "id": "f95d19cd",
   "metadata": {},
   "outputs": [
    {
     "name": "stdout",
     "output_type": "stream",
     "text": [
      "[50, 52, 54, 56, 58, 60, 62, 64, 66, 68, 70, 72, 74, 76, 78, 80, 82, 84, 86, 88, 90, 92, 94, 96, 98, 100]\n"
     ]
    }
   ],
   "source": [
    "a = []\n",
    "n = 50\n",
    "while n <= 100:\n",
    "  if n % 2 == 0:\n",
    "     a.append(n)\n",
    "  n +=1\n",
    "print(a)"
   ]
  },
  {
   "cell_type": "markdown",
   "id": "bffe4d5d",
   "metadata": {},
   "source": [
    "##  3) Activity: - if-else statement\n",
    "\n",
    "---\n",
    "\n",
    "\n",
    "Get an input from user and check if its even or odd"
   ]
  },
  {
   "cell_type": "code",
   "execution_count": 1,
   "id": "63ea2f2d",
   "metadata": {},
   "outputs": [
    {
     "name": "stdout",
     "output_type": "stream",
     "text": [
      "enter a number 50\n",
      "number is even\n"
     ]
    }
   ],
   "source": [
    "try:\n",
    "  number = int(input('enter a number '))\n",
    "  if number % 2 == 0:\n",
    "    print('number is even')\n",
    "  else:\n",
    "    print('number is odd')\n",
    "except:\n",
    "  print('enter a number')\n",
    "\n"
   ]
  },
  {
   "cell_type": "code",
   "execution_count": null,
   "id": "f13b5d0e",
   "metadata": {},
   "outputs": [],
   "source": []
  },
  {
   "cell_type": "code",
   "execution_count": 9,
   "id": "69114dbb",
   "metadata": {},
   "outputs": [
    {
     "name": "stdout",
     "output_type": "stream",
     "text": [
      "min number 10\n",
      "max number 30\n",
      "[11, 13, 15, 17, 19, 21, 23, 25, 27, 29]\n"
     ]
    }
   ],
   "source": [
    "min_num = int(input('min number '))\n",
    "max_num = int(input('max number '))\n",
    "d =[]\n",
    "num = min_num\n",
    "while num < max_num:\n",
    "    if num % 2 != 0:\n",
    "        d.append(num)\n",
    "    num += 1\n",
    "print(d)"
   ]
  },
  {
   "cell_type": "markdown",
   "id": "e67ed095",
   "metadata": {},
   "source": [
    "# 4) Activity WAP which accepts the radius of a circle and returns the area and circumference of a circle"
   ]
  },
  {
   "cell_type": "code",
   "execution_count": 38,
   "id": "a8e7b146",
   "metadata": {},
   "outputs": [],
   "source": [
    "def circle():\n",
    "  try:\n",
    "    r = int(input('enter radius '))\n",
    "    pi = 22/7\n",
    "    area = pi * r**2\n",
    "    circumference = 2 * pi * r\n",
    "    return area,circumference \n",
    "  except:\n",
    "    print('enter a number, not a letter')\n",
    "    \n"
   ]
  },
  {
   "cell_type": "code",
   "execution_count": 42,
   "id": "2a683201",
   "metadata": {},
   "outputs": [
    {
     "name": "stdout",
     "output_type": "stream",
     "text": [
      "enter radius 10\n"
     ]
    },
    {
     "data": {
      "text/plain": [
       "(314.2857142857143, 62.857142857142854)"
      ]
     },
     "execution_count": 42,
     "metadata": {},
     "output_type": "execute_result"
    }
   ],
   "source": [
    " circle()"
   ]
  },
  {
   "cell_type": "markdown",
   "id": "59475d5e",
   "metadata": {},
   "source": [
    "# 5) Activity - Write a function which finds the factorial of a number"
   ]
  },
  {
   "cell_type": "code",
   "execution_count": null,
   "id": "ef62beee",
   "metadata": {},
   "outputs": [],
   "source": [
    "\n",
    "def factorial(num):\n",
    "  gen_factors = []\n",
    "  while num != 0:\n",
    "    gen_factors.append(num) \n",
    "    num -= 1\n",
    "  for i in gen_factors:\n",
    "    if num == 0:\n",
    "      num = i\n",
    "    else:\n",
    "      num *= i\n",
    "  return num"
   ]
  },
  {
   "cell_type": "code",
   "execution_count": null,
   "id": "d486c30d",
   "metadata": {},
   "outputs": [],
   "source": [
    "factorial(1)"
   ]
  },
  {
   "cell_type": "code",
   "execution_count": 43,
   "id": "fad85413",
   "metadata": {},
   "outputs": [
    {
     "data": {
      "text/plain": [
       "314.2857142857143"
      ]
     },
     "execution_count": 43,
     "metadata": {},
     "output_type": "execute_result"
    }
   ],
   "source": [
    "class example:\n",
    "    pi = 22/7\n",
    "    \n",
    "    def area(self, radius ):\n",
    "        self.radius = radius\n",
    "        return self.pi * self.radius**2\n",
    "\n",
    "    def permiter(self, radius):\n",
    "        self.radius = radius\n",
    "        return 2* self.pi * self.radius\n",
    "    \n",
    "circle = example()\n",
    "circle.area(10)"
   ]
  }
 ],
 "metadata": {
  "kernelspec": {
   "display_name": "Python 3",
   "language": "python",
   "name": "python3"
  },
  "language_info": {
   "codemirror_mode": {
    "name": "ipython",
    "version": 3
   },
   "file_extension": ".py",
   "mimetype": "text/x-python",
   "name": "python",
   "nbconvert_exporter": "python",
   "pygments_lexer": "ipython3",
   "version": "3.8.8"
  }
 },
 "nbformat": 4,
 "nbformat_minor": 5
}
